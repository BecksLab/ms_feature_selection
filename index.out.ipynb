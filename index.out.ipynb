{
 "cells": [
  {
   "cell_type": "markdown",
   "metadata": {},
   "source": [
    "# Finding the mjor descriptors of species networks\n",
    "\n",
    "Tanya Strydom [![](data:image/png;base64,iVBORw0KGgoAAAANSUhEUgAAABAAAAAQCAYAAAAf8/9hAAAAGXRFWHRTb2Z0d2FyZQBBZG9iZSBJbWFnZVJlYWR5ccllPAAAA2ZpVFh0WE1MOmNvbS5hZG9iZS54bXAAAAAAADw/eHBhY2tldCBiZWdpbj0i77u/IiBpZD0iVzVNME1wQ2VoaUh6cmVTek5UY3prYzlkIj8+IDx4OnhtcG1ldGEgeG1sbnM6eD0iYWRvYmU6bnM6bWV0YS8iIHg6eG1wdGs9IkFkb2JlIFhNUCBDb3JlIDUuMC1jMDYwIDYxLjEzNDc3NywgMjAxMC8wMi8xMi0xNzozMjowMCAgICAgICAgIj4gPHJkZjpSREYgeG1sbnM6cmRmPSJodHRwOi8vd3d3LnczLm9yZy8xOTk5LzAyLzIyLXJkZi1zeW50YXgtbnMjIj4gPHJkZjpEZXNjcmlwdGlvbiByZGY6YWJvdXQ9IiIgeG1sbnM6eG1wTU09Imh0dHA6Ly9ucy5hZG9iZS5jb20veGFwLzEuMC9tbS8iIHhtbG5zOnN0UmVmPSJodHRwOi8vbnMuYWRvYmUuY29tL3hhcC8xLjAvc1R5cGUvUmVzb3VyY2VSZWYjIiB4bWxuczp4bXA9Imh0dHA6Ly9ucy5hZG9iZS5jb20veGFwLzEuMC8iIHhtcE1NOk9yaWdpbmFsRG9jdW1lbnRJRD0ieG1wLmRpZDo1N0NEMjA4MDI1MjA2ODExOTk0QzkzNTEzRjZEQTg1NyIgeG1wTU06RG9jdW1lbnRJRD0ieG1wLmRpZDozM0NDOEJGNEZGNTcxMUUxODdBOEVCODg2RjdCQ0QwOSIgeG1wTU06SW5zdGFuY2VJRD0ieG1wLmlpZDozM0NDOEJGM0ZGNTcxMUUxODdBOEVCODg2RjdCQ0QwOSIgeG1wOkNyZWF0b3JUb29sPSJBZG9iZSBQaG90b3Nob3AgQ1M1IE1hY2ludG9zaCI+IDx4bXBNTTpEZXJpdmVkRnJvbSBzdFJlZjppbnN0YW5jZUlEPSJ4bXAuaWlkOkZDN0YxMTc0MDcyMDY4MTE5NUZFRDc5MUM2MUUwNEREIiBzdFJlZjpkb2N1bWVudElEPSJ4bXAuZGlkOjU3Q0QyMDgwMjUyMDY4MTE5OTRDOTM1MTNGNkRBODU3Ii8+IDwvcmRmOkRlc2NyaXB0aW9uPiA8L3JkZjpSREY+IDwveDp4bXBtZXRhPiA8P3hwYWNrZXQgZW5kPSJyIj8+84NovQAAAR1JREFUeNpiZEADy85ZJgCpeCB2QJM6AMQLo4yOL0AWZETSqACk1gOxAQN+cAGIA4EGPQBxmJA0nwdpjjQ8xqArmczw5tMHXAaALDgP1QMxAGqzAAPxQACqh4ER6uf5MBlkm0X4EGayMfMw/Pr7Bd2gRBZogMFBrv01hisv5jLsv9nLAPIOMnjy8RDDyYctyAbFM2EJbRQw+aAWw/LzVgx7b+cwCHKqMhjJFCBLOzAR6+lXX84xnHjYyqAo5IUizkRCwIENQQckGSDGY4TVgAPEaraQr2a4/24bSuoExcJCfAEJihXkWDj3ZAKy9EJGaEo8T0QSxkjSwORsCAuDQCD+QILmD1A9kECEZgxDaEZhICIzGcIyEyOl2RkgwAAhkmC+eAm0TAAAAABJRU5ErkJggg==)](https://orcid.org/0000-0001-6067-1349) (School of Biosciences, University of Sheffield, Sheffield, UK)  \n",
    "Andrew P. Beckerman [![](data:image/png;base64,iVBORw0KGgoAAAANSUhEUgAAABAAAAAQCAYAAAAf8/9hAAAAGXRFWHRTb2Z0d2FyZQBBZG9iZSBJbWFnZVJlYWR5ccllPAAAA2ZpVFh0WE1MOmNvbS5hZG9iZS54bXAAAAAAADw/eHBhY2tldCBiZWdpbj0i77u/IiBpZD0iVzVNME1wQ2VoaUh6cmVTek5UY3prYzlkIj8+IDx4OnhtcG1ldGEgeG1sbnM6eD0iYWRvYmU6bnM6bWV0YS8iIHg6eG1wdGs9IkFkb2JlIFhNUCBDb3JlIDUuMC1jMDYwIDYxLjEzNDc3NywgMjAxMC8wMi8xMi0xNzozMjowMCAgICAgICAgIj4gPHJkZjpSREYgeG1sbnM6cmRmPSJodHRwOi8vd3d3LnczLm9yZy8xOTk5LzAyLzIyLXJkZi1zeW50YXgtbnMjIj4gPHJkZjpEZXNjcmlwdGlvbiByZGY6YWJvdXQ9IiIgeG1sbnM6eG1wTU09Imh0dHA6Ly9ucy5hZG9iZS5jb20veGFwLzEuMC9tbS8iIHhtbG5zOnN0UmVmPSJodHRwOi8vbnMuYWRvYmUuY29tL3hhcC8xLjAvc1R5cGUvUmVzb3VyY2VSZWYjIiB4bWxuczp4bXA9Imh0dHA6Ly9ucy5hZG9iZS5jb20veGFwLzEuMC8iIHhtcE1NOk9yaWdpbmFsRG9jdW1lbnRJRD0ieG1wLmRpZDo1N0NEMjA4MDI1MjA2ODExOTk0QzkzNTEzRjZEQTg1NyIgeG1wTU06RG9jdW1lbnRJRD0ieG1wLmRpZDozM0NDOEJGNEZGNTcxMUUxODdBOEVCODg2RjdCQ0QwOSIgeG1wTU06SW5zdGFuY2VJRD0ieG1wLmlpZDozM0NDOEJGM0ZGNTcxMUUxODdBOEVCODg2RjdCQ0QwOSIgeG1wOkNyZWF0b3JUb29sPSJBZG9iZSBQaG90b3Nob3AgQ1M1IE1hY2ludG9zaCI+IDx4bXBNTTpEZXJpdmVkRnJvbSBzdFJlZjppbnN0YW5jZUlEPSJ4bXAuaWlkOkZDN0YxMTc0MDcyMDY4MTE5NUZFRDc5MUM2MUUwNEREIiBzdFJlZjpkb2N1bWVudElEPSJ4bXAuZGlkOjU3Q0QyMDgwMjUyMDY4MTE5OTRDOTM1MTNGNkRBODU3Ii8+IDwvcmRmOkRlc2NyaXB0aW9uPiA8L3JkZjpSREY+IDwveDp4bXBtZXRhPiA8P3hwYWNrZXQgZW5kPSJyIj8+84NovQAAAR1JREFUeNpiZEADy85ZJgCpeCB2QJM6AMQLo4yOL0AWZETSqACk1gOxAQN+cAGIA4EGPQBxmJA0nwdpjjQ8xqArmczw5tMHXAaALDgP1QMxAGqzAAPxQACqh4ER6uf5MBlkm0X4EGayMfMw/Pr7Bd2gRBZogMFBrv01hisv5jLsv9nLAPIOMnjy8RDDyYctyAbFM2EJbRQw+aAWw/LzVgx7b+cwCHKqMhjJFCBLOzAR6+lXX84xnHjYyqAo5IUizkRCwIENQQckGSDGY4TVgAPEaraQr2a4/24bSuoExcJCfAEJihXkWDj3ZAKy9EJGaEo8T0QSxkjSwORsCAuDQCD+QILmD1A9kECEZgxDaEZhICIzGcIyEyOl2RkgwAAhkmC+eAm0TAAAAABJRU5ErkJggg==)](https://orcid.org/0000-0002-7859-8394) (School of Biosciences, University of Sheffield, Sheffield, UK)  \n",
    "May 23, 2025\n",
    "\n",
    "TODO\n",
    "\n",
    "Blah blah blah Vermaat, Dunne, and Gilbert ([2009](#ref-vermaatMajorDimensionsFoodweb2009))\n",
    "\n",
    "*“It is incumbent on network ecologists to establish clearly the independence and uniqueness of the descriptive metrics used.”* - Lau et al. ([2017](#ref-lauEcologicalNetworkMetrics2017))\n",
    "\n",
    "| Label | Definition | “Function” | Reference (for maths), can make footnotes probs |\n",
    "|----------------|-------------------------|----------------|----------------|\n",
    "| Basal | Percentage of basal taxa, defined as species who have a vulnerability of zero |  |  |\n",
    "| Connectance | $L/S^2$, where $S$ is the number of species and $L$ the number of links |  |  |\n",
    "| Cannibal | Percentage of species that are cannibals |  |  |\n",
    "| ChLen | Mean food chain length, averaged over all species (where a food chain is defined as a continuous path from a ‘basal’ to a ‘top’ species) |  |  |\n",
    "| ChSD | Standard deviation of ChLen |  |  |\n",
    "| ChNum | log number of food chains |  |  |\n",
    "| Clust | mean clustering coefficient (probability that two taxa linked to the same taxon are also linked) |  | **TODO** |\n",
    "| GenSD | Normalized standard deviation of generality of a species standardized by $L/S$ |  | Williams and Martinez ([2008](#ref-williamsSuccessItsLimits2008a)) |\n",
    "| Herbivore | Percentage of herbivores plus detritivores (taxa that feed only on basal taxa) |  |  |\n",
    "| Intermediate | Percentage of intermediate taxa (with both consumers and resources) |  |  |\n",
    "| LinkSD | Normalized standard deviation of links (number of consumers plus resources per taxon) |  |  |\n",
    "| Loop | Percentage of taxa in loops (food chains in which a taxon occurs twice) |  |  |\n",
    "| L/S | links per species |  |  |\n",
    "| MaxSim | Mean of the maximum trophic similarity of each taxon to other taxa, the number of predators and prey shared by a pair of species divided by their total number of predators and prey |  | **TODO** |\n",
    "| Omnivory | Percentage of omnivores (taxa that feed on $\\geq$ 2 taxa with different trophic levels) |  |  |\n",
    "| Path | characteristic path length, the mean shortest food chain length between species pairs |  |  |\n",
    "| Richness | Number of nodes in the network |  |  |\n",
    "| TL | Prey-weighted trophic level averaged across taxa |  | Williams and Martinez ([2004](#ref-williamsLimitsTrophicLevels2004)) |\n",
    "| Top | Percentage of top taxa (taxa without consumers) |  |  |\n",
    "| VulSD | Normalized standard deviation of vulnerability of a species standardized by $L/S$ |  |  |\n",
    "| Links | The number of links in the network |  |  |\n",
    "| Diameter | Diameter can also be measured as the average of the distances between each pair of nodes in the network |  | Delmas et al. ([2019](#ref-delmasAnalysingEcologicalNetworks2019)) |\n",
    "| $\\rho$ | Spectral radius is a a conceptual analog to nestedness (and more appropriate for unipartite networks). It is defined as the absolute value of the largest real part of the eigenvalues of the *undirected* adjacency matrix |  | Staniczenko, Kopp, and Allesina ([2013](#ref-staniczenkoGhostNestednessEcological2013)) |\n",
    "| Complexity | SVD complexity of a network, defined as the Pielou entropy of its singular values | Something about structural v behavioural complexity being captured | Strydom, Dalla Riva, and Poisot ([2021](#ref-strydomSVDEntropyReveals2021)) |\n",
    "| Centrality | Centrality is a measure of how ‘influential’ a species is, under various definitions of ‘influence’… | Centrality can help in quantifying the importance of species in a network |  |\n",
    "| S1 | Number of linear chains |  | Daniel B. Stouffer et al. ([2007](#ref-stoufferEvidenceExistenceRobust2007)) Milo et al. ([2002](#ref-miloNetworkMotifsSimple2002)) |\n",
    "| S2 | Number of omnivory motifs |  | Daniel B. Stouffer et al. ([2007](#ref-stoufferEvidenceExistenceRobust2007)) Milo et al. ([2002](#ref-miloNetworkMotifsSimple2002)) |\n",
    "| S4 | Number of apparent competition motifs |  | Daniel B. Stouffer et al. ([2007](#ref-stoufferEvidenceExistenceRobust2007)) Milo et al. ([2002](#ref-miloNetworkMotifsSimple2002)) |\n",
    "| S5 | Number of direct competition motifs |  | Daniel B. Stouffer et al. ([2007](#ref-stoufferEvidenceExistenceRobust2007)) Milo et al. ([2002](#ref-miloNetworkMotifsSimple2002)) |\n",
    "| Intervality |  |  | **TODO** Daniel B. Stouffer, Camacho, and Amaral ([2006](#ref-stoufferRobustMeasureFood2006a)) |\n",
    "\n",
    "Table 1: An informative caption about the different network properties"
   ],
   "id": "94832d7e-91bf-4817-aef0-d8d1a8c1a4e7"
  },
  {
   "cell_type": "code",
   "execution_count": null,
   "metadata": {},
   "outputs": [
    {
     "output_type": "stream",
     "name": "stderr",
     "text": [
      "── Attaching core tidyverse packages ──────────────────────── tidyverse 2.0.0 ──\n",
      "✔ dplyr     1.1.4     ✔ readr     2.1.5\n",
      "✔ forcats   1.0.0     ✔ stringr   1.5.1\n",
      "✔ ggplot2   3.5.1     ✔ tibble    3.2.1\n",
      "✔ lubridate 1.9.3     ✔ tidyr     1.3.1\n",
      "✔ purrr     1.0.2     \n",
      "── Conflicts ────────────────────────────────────────── tidyverse_conflicts() ──\n",
      "✖ dplyr::filter() masks stats::filter()\n",
      "✖ dplyr::lag()    masks stats::lag()\n",
      "ℹ Use the conflicted package (<http://conflicted.r-lib.org/>) to force all conflicts to become errors"
     ]
    },
    {
     "output_type": "stream",
     "name": "stderr",
     "text": [
      "Rows: 28 Columns: 4\n",
      "── Column specification ────────────────────────────────────────────────────────\n",
      "Delimiter: \",\"\n",
      "chr (3): Property, PCA 1 (27%), PCA 2 (24%)\n",
      "dbl (1): PCA 3 (11%)\n",
      "\n",
      "ℹ Use `spec()` to retrieve the full column specification for this data.\n",
      "ℹ Specify the column types or set `show_col_types = FALSE` to quiet this message."
     ]
    }
   ],
   "source": [
    "library(knitr)\n",
    "library(tidyverse)"
   ],
   "id": "dec4db3d-4f0d-49d4-9533-51be55f84911"
  },
  {
   "cell_type": "markdown",
   "metadata": {},
   "source": [
    "# References\n",
    "\n",
    "Delmas, Eva, Mathilde Besson, Marie-Hélène Brice, Laura A. Burkle, Giulio V. Dalla Riva, Marie-Josée Fortin, Dominique Gravel, et al. 2019. “Analysing Ecological Networks of Species Interactions.” *Biological Reviews* 94 (1): 16–36. <https://doi.org/10.1111/brv.12433>.\n",
    "\n",
    "Lau, Matthew K., Stuart R. Borrett, Benjamin Baiser, Nicholas J. Gotelli, and Aaron M. Ellison. 2017. “Ecological Network Metrics: Opportunities for Synthesis.” *Ecosphere* 8 (8): e01900. <https://doi.org/10.1002/ecs2.1900>.\n",
    "\n",
    "Milo, R., S. Shen-Orr, S. Itzkovitz, N. Kashtan, D. Chklovskii, and U. Alon. 2002. “Network Motifs: Simple Building Blocks of Complex Networks.” *Science* 298 (5594): 824–27. <https://doi.org/10.1126/science.298.5594.824>.\n",
    "\n",
    "Staniczenko, Phillip P. A., Jason C. Kopp, and Stefano Allesina. 2013. “The Ghost of Nestedness in Ecological Networks.” *Nature Communications* 4 (1): 1391. <https://doi.org/10.1038/ncomms2422>.\n",
    "\n",
    "Stouffer, Daniel B., Juan Camacho, and Luís A. Nunes Amaral. 2006. “A Robust Measure of Food Web Intervality.” *Proceedings of the National Academy of Sciences* 103 (50): 19015–20. <https://doi.org/10.1073/pnas.0603844103>.\n",
    "\n",
    "Stouffer, Daniel B, Juan Camacho, Wenxin Jiang, and Luís A Nunes Amaral. 2007. “Evidence for the Existence of a Robust Pattern of Prey Selection in Food Webs.” *Proceedings of the Royal Society B: Biological Sciences* 274 (1621): 1931–40. <https://doi.org/10.1098/rspb.2007.0571>.\n",
    "\n",
    "Strydom, Tanya, Giulio V. Dalla Riva, and Timothée Poisot. 2021. “SVD Entropy Reveals the High Complexity of Ecological Networks.” *Frontiers in Ecology and Evolution* 9. <https://doi.org/10.3389/fevo.2021.623141>.\n",
    "\n",
    "Vermaat, Jan E., Jennifer A. Dunne, and Alison J. Gilbert. 2009. “Major Dimensions in Food-Web Structure Properties.” *Ecology* 90 (1): 278–82. <https://doi.org/10.1890/07-0978.1>.\n",
    "\n",
    "Williams, Richard J., and Neo D. Martinez. 2004. “Limits to Trophic Levels and Omnivory in Complex Food Webs: Theory and Data.” *The American Naturalist* 163 (3): 458–68. <https://doi.org/10.1086/381964>.\n",
    "\n",
    "———. 2008. “Success and Its Limits Among Structural Models of Complex Food Webs.” *The Journal of Animal Ecology* 77 (3): 512–19. <https://doi.org/10.1111/j.1365-2656.2008.01362.x>."
   ],
   "id": "48760cb5-e4bf-4bf5-b233-a8121ecb579b"
  }
 ],
 "nbformat": 4,
 "nbformat_minor": 5,
 "metadata": {}
}
