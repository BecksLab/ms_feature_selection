{
 "cells": [
  {
   "cell_type": "markdown",
   "metadata": {},
   "source": [
    "# Finding the mjor descriptors of species networks\n",
    "\n",
    "Tanya Strydom [![](data:image/png;base64,iVBORw0KGgoAAAANSUhEUgAAABAAAAAQCAYAAAAf8/9hAAAAGXRFWHRTb2Z0d2FyZQBBZG9iZSBJbWFnZVJlYWR5ccllPAAAA2ZpVFh0WE1MOmNvbS5hZG9iZS54bXAAAAAAADw/eHBhY2tldCBiZWdpbj0i77u/IiBpZD0iVzVNME1wQ2VoaUh6cmVTek5UY3prYzlkIj8+IDx4OnhtcG1ldGEgeG1sbnM6eD0iYWRvYmU6bnM6bWV0YS8iIHg6eG1wdGs9IkFkb2JlIFhNUCBDb3JlIDUuMC1jMDYwIDYxLjEzNDc3NywgMjAxMC8wMi8xMi0xNzozMjowMCAgICAgICAgIj4gPHJkZjpSREYgeG1sbnM6cmRmPSJodHRwOi8vd3d3LnczLm9yZy8xOTk5LzAyLzIyLXJkZi1zeW50YXgtbnMjIj4gPHJkZjpEZXNjcmlwdGlvbiByZGY6YWJvdXQ9IiIgeG1sbnM6eG1wTU09Imh0dHA6Ly9ucy5hZG9iZS5jb20veGFwLzEuMC9tbS8iIHhtbG5zOnN0UmVmPSJodHRwOi8vbnMuYWRvYmUuY29tL3hhcC8xLjAvc1R5cGUvUmVzb3VyY2VSZWYjIiB4bWxuczp4bXA9Imh0dHA6Ly9ucy5hZG9iZS5jb20veGFwLzEuMC8iIHhtcE1NOk9yaWdpbmFsRG9jdW1lbnRJRD0ieG1wLmRpZDo1N0NEMjA4MDI1MjA2ODExOTk0QzkzNTEzRjZEQTg1NyIgeG1wTU06RG9jdW1lbnRJRD0ieG1wLmRpZDozM0NDOEJGNEZGNTcxMUUxODdBOEVCODg2RjdCQ0QwOSIgeG1wTU06SW5zdGFuY2VJRD0ieG1wLmlpZDozM0NDOEJGM0ZGNTcxMUUxODdBOEVCODg2RjdCQ0QwOSIgeG1wOkNyZWF0b3JUb29sPSJBZG9iZSBQaG90b3Nob3AgQ1M1IE1hY2ludG9zaCI+IDx4bXBNTTpEZXJpdmVkRnJvbSBzdFJlZjppbnN0YW5jZUlEPSJ4bXAuaWlkOkZDN0YxMTc0MDcyMDY4MTE5NUZFRDc5MUM2MUUwNEREIiBzdFJlZjpkb2N1bWVudElEPSJ4bXAuZGlkOjU3Q0QyMDgwMjUyMDY4MTE5OTRDOTM1MTNGNkRBODU3Ii8+IDwvcmRmOkRlc2NyaXB0aW9uPiA8L3JkZjpSREY+IDwveDp4bXBtZXRhPiA8P3hwYWNrZXQgZW5kPSJyIj8+84NovQAAAR1JREFUeNpiZEADy85ZJgCpeCB2QJM6AMQLo4yOL0AWZETSqACk1gOxAQN+cAGIA4EGPQBxmJA0nwdpjjQ8xqArmczw5tMHXAaALDgP1QMxAGqzAAPxQACqh4ER6uf5MBlkm0X4EGayMfMw/Pr7Bd2gRBZogMFBrv01hisv5jLsv9nLAPIOMnjy8RDDyYctyAbFM2EJbRQw+aAWw/LzVgx7b+cwCHKqMhjJFCBLOzAR6+lXX84xnHjYyqAo5IUizkRCwIENQQckGSDGY4TVgAPEaraQr2a4/24bSuoExcJCfAEJihXkWDj3ZAKy9EJGaEo8T0QSxkjSwORsCAuDQCD+QILmD1A9kECEZgxDaEZhICIzGcIyEyOl2RkgwAAhkmC+eAm0TAAAAABJRU5ErkJggg==)](https://orcid.org/0000-0001-6067-1349) (School of Biosciences, University of Sheffield, Sheffield, UK)  \n",
    "Andrew P. Beckerman [![](data:image/png;base64,iVBORw0KGgoAAAANSUhEUgAAABAAAAAQCAYAAAAf8/9hAAAAGXRFWHRTb2Z0d2FyZQBBZG9iZSBJbWFnZVJlYWR5ccllPAAAA2ZpVFh0WE1MOmNvbS5hZG9iZS54bXAAAAAAADw/eHBhY2tldCBiZWdpbj0i77u/IiBpZD0iVzVNME1wQ2VoaUh6cmVTek5UY3prYzlkIj8+IDx4OnhtcG1ldGEgeG1sbnM6eD0iYWRvYmU6bnM6bWV0YS8iIHg6eG1wdGs9IkFkb2JlIFhNUCBDb3JlIDUuMC1jMDYwIDYxLjEzNDc3NywgMjAxMC8wMi8xMi0xNzozMjowMCAgICAgICAgIj4gPHJkZjpSREYgeG1sbnM6cmRmPSJodHRwOi8vd3d3LnczLm9yZy8xOTk5LzAyLzIyLXJkZi1zeW50YXgtbnMjIj4gPHJkZjpEZXNjcmlwdGlvbiByZGY6YWJvdXQ9IiIgeG1sbnM6eG1wTU09Imh0dHA6Ly9ucy5hZG9iZS5jb20veGFwLzEuMC9tbS8iIHhtbG5zOnN0UmVmPSJodHRwOi8vbnMuYWRvYmUuY29tL3hhcC8xLjAvc1R5cGUvUmVzb3VyY2VSZWYjIiB4bWxuczp4bXA9Imh0dHA6Ly9ucy5hZG9iZS5jb20veGFwLzEuMC8iIHhtcE1NOk9yaWdpbmFsRG9jdW1lbnRJRD0ieG1wLmRpZDo1N0NEMjA4MDI1MjA2ODExOTk0QzkzNTEzRjZEQTg1NyIgeG1wTU06RG9jdW1lbnRJRD0ieG1wLmRpZDozM0NDOEJGNEZGNTcxMUUxODdBOEVCODg2RjdCQ0QwOSIgeG1wTU06SW5zdGFuY2VJRD0ieG1wLmlpZDozM0NDOEJGM0ZGNTcxMUUxODdBOEVCODg2RjdCQ0QwOSIgeG1wOkNyZWF0b3JUb29sPSJBZG9iZSBQaG90b3Nob3AgQ1M1IE1hY2ludG9zaCI+IDx4bXBNTTpEZXJpdmVkRnJvbSBzdFJlZjppbnN0YW5jZUlEPSJ4bXAuaWlkOkZDN0YxMTc0MDcyMDY4MTE5NUZFRDc5MUM2MUUwNEREIiBzdFJlZjpkb2N1bWVudElEPSJ4bXAuZGlkOjU3Q0QyMDgwMjUyMDY4MTE5OTRDOTM1MTNGNkRBODU3Ii8+IDwvcmRmOkRlc2NyaXB0aW9uPiA8L3JkZjpSREY+IDwveDp4bXBtZXRhPiA8P3hwYWNrZXQgZW5kPSJyIj8+84NovQAAAR1JREFUeNpiZEADy85ZJgCpeCB2QJM6AMQLo4yOL0AWZETSqACk1gOxAQN+cAGIA4EGPQBxmJA0nwdpjjQ8xqArmczw5tMHXAaALDgP1QMxAGqzAAPxQACqh4ER6uf5MBlkm0X4EGayMfMw/Pr7Bd2gRBZogMFBrv01hisv5jLsv9nLAPIOMnjy8RDDyYctyAbFM2EJbRQw+aAWw/LzVgx7b+cwCHKqMhjJFCBLOzAR6+lXX84xnHjYyqAo5IUizkRCwIENQQckGSDGY4TVgAPEaraQr2a4/24bSuoExcJCfAEJihXkWDj3ZAKy9EJGaEo8T0QSxkjSwORsCAuDQCD+QILmD1A9kECEZgxDaEZhICIzGcIyEyOl2RkgwAAhkmC+eAm0TAAAAABJRU5ErkJggg==)](https://orcid.org/0000-0002-7859-8394) (School of Biosciences, University of Sheffield, Sheffield, UK)  \n",
    "May 22, 2025\n",
    "\n",
    "TODO\n",
    "\n",
    "Blah blah blah @vermaatMajorDimensionsFoodweb2009\n",
    "\n",
    "*“It is incumbent on network ecologists to establish clearly the independence and uniqueness of the descriptive metrics used.”* - @lauEcologicalNetworkMetrics2017\n",
    "\n",
    "| Label | Definition | “Function” | Reference (for maths), can make footnotes probs |\n",
    "|----------------|-------------------------|----------------|----------------|\n",
    "| Basal | Percentage of basal taxa, defined as species who have a vulnerability of zero |  |  |\n",
    "| Connectance | $L/S^2$, where $S$ is the number of species and $L$ the number of links |  |  |\n",
    "| Cannibal | Percentage of species that are cannibals |  |  |\n",
    "| ChLen | Mean food chain length, averaged over all species (where a food chain is defined as a continuous path from a ‘basal’ to a ‘top’ species) |  |  |\n",
    "| ChSD | Standard deviation of ChLen |  |  |\n",
    "| ChNum | log number of food chains |  |  |\n",
    "| Clust | mean clustering coefficient (probability that two taxa linked to the same taxon are also linked) |  | **TODO** |\n",
    "| GenSD | Normalized standard deviation of generality of a species standardized by $L/S$ |  | @williamsSuccessItsLimits2008a |\n",
    "| Herbivore | Percentage of herbivores plus detritivores (taxa that feed only on basal taxa) |  |  |\n",
    "| Intermediate | Percentage of intermediate taxa (with both consumers and resources) |  |  |\n",
    "| LinkSD | Normalized standard deviation of links (number of consumers plus resources per taxon) |  |  |\n",
    "| Loop | Percentage of taxa in loops (food chains in which a taxon occurs twice) |  |  |\n",
    "| L/S | links per species |  |  |\n",
    "| MaxSim | Mean of the maximum trophic similarity of each taxon to other taxa, the number of predators and prey shared by a pair of species divided by their total number of predators and prey |  | **TODO** |\n",
    "| Omnivory | Percentage of omnivores (taxa that feed on $\\geq$ 2 taxa with different trophic levels) |  |  |\n",
    "| Path | characteristic path length, the mean shortest food chain length between species pairs |  |  |\n",
    "| Richness | Number of nodes in the network |  |  |\n",
    "| TL | Prey-weighted trophic level averaged across taxa |  | @williamsLimitsTrophicLevels2004 |\n",
    "| Top | Percentage of top taxa (taxa without consumers) |  |  |\n",
    "| VulSD | Normalized standard deviation of vulnerability of a species standardized by $L/S$ |  |  |\n",
    "| Links | The number of links in the network |  |  |\n",
    "| Diameter | Diameter can also be measured as the average of the distances between each pair of nodes in the network |  | @delmasAnalysingEcologicalNetworks2019 |\n",
    "| $\\rho$ | Spectral radius is a a conceptual analog to nestedness (and more appropriate for unipartite networks). It is defined as the absolute value of the largest real part of the eigenvalues of the *undirected* adjacency matrix |  | @staniczenkoGhostNestednessEcological2013 |\n",
    "| Complexity | SVD complexity of a network, defined as the Pielou entropy of its singular values | Something about structural v behavioural complexity being captured | @strydomSVDEntropyReveals2021 |\n",
    "| Centrality | Centrality is a measure of how ‘influential’ a species is, under various definitions of ‘influence’… | Centrality can help in quantifying the importance of species in a network |  |\n",
    "| S1 | Number of linear chains |  | @stoufferEvidenceExistenceRobust2007 @miloNetworkMotifsSimple2002 |\n",
    "| S2 | Number of omnivory motifs |  | @stoufferEvidenceExistenceRobust2007 @miloNetworkMotifsSimple2002 |\n",
    "| S4 | Number of apparent competition motifs |  | @stoufferEvidenceExistenceRobust2007 @miloNetworkMotifsSimple2002 |\n",
    "| S5 | Number of direct competition motifs |  | @stoufferEvidenceExistenceRobust2007 @miloNetworkMotifsSimple2002 |\n",
    "| Intervality |  |  | **TODO** @stoufferRobustMeasureFood2006a |"
   ],
   "id": "2fe021cb-ef9f-4cf0-9da7-4c4db48b2a6d"
  },
  {
   "cell_type": "code",
   "execution_count": null,
   "metadata": {},
   "outputs": [
    {
     "output_type": "stream",
     "name": "stderr",
     "text": [
      "── Attaching core tidyverse packages ──────────────────────── tidyverse 2.0.0 ──\n",
      "✔ dplyr     1.1.4     ✔ readr     2.1.5\n",
      "✔ forcats   1.0.0     ✔ stringr   1.5.1\n",
      "✔ ggplot2   3.5.1     ✔ tibble    3.2.1\n",
      "✔ lubridate 1.9.3     ✔ tidyr     1.3.1\n",
      "✔ purrr     1.0.2     \n",
      "── Conflicts ────────────────────────────────────────── tidyverse_conflicts() ──\n",
      "✖ dplyr::filter() masks stats::filter()\n",
      "✖ dplyr::lag()    masks stats::lag()\n",
      "ℹ Use the conflicted package (<http://conflicted.r-lib.org/>) to force all conflicts to become errors"
     ]
    },
    {
     "output_type": "stream",
     "name": "stderr",
     "text": [
      "Rows: 19 Columns: 4\n",
      "── Column specification ────────────────────────────────────────────────────────\n",
      "Delimiter: \",\"\n",
      "chr (3): Property, PCA 1 (42%), PCA 2 (24%)\n",
      "dbl (1): PCA 3 (11%)\n",
      "\n",
      "ℹ Use `spec()` to retrieve the full column specification for this data.\n",
      "ℹ Specify the column types or set `show_col_types = FALSE` to quiet this message."
     ]
    },
    {
     "output_type": "display_data",
     "metadata": {},
     "data": {
      "text/markdown": [
       "  Property       PCA 1 (42%)   PCA 2 (24%)     PCA 3 (11%)\n",
       "  -------------- ------------- ------------- -------------\n",
       "  richness       0.63          0.49                   0.18\n",
       "  connectance    -0.92         -0.08                  0.14\n",
       "  distance       0             **0.83**               0.29\n",
       "  basal          0.47          -0.04                  0.66\n",
       "  top            **0.8**       -0.24                 -0.50\n",
       "  intermediate   -0.9          0.2                   -0.10\n",
       "  herbivory      0.64          -0.02                  0.49\n",
       "  omnivory       -0.88         0.29                  -0.32\n",
       "  cannibal       -0.85         -0.12                  0.00\n",
       "  l_S            -0.5          0.27                   0.38\n",
       "  GenSD          0.64          0.18                   0.59\n",
       "  VulSD          **0.86**      -0.14                 -0.38\n",
       "  TL             -0.25         **0.86**              -0.09\n",
       "  ChLen          0.45          0.61                   0.06\n",
       "  ChSD           0             **0.86**              -0.29\n",
       "  ChNum          **0.9**       0.02                  -0.29\n",
       "  path           -0.04         **0.92**              -0.17\n",
       "  LinkSD         **0.85**      0.17                  -0.25\n",
       "  loops          0.17          **0.79**              -0.08\n"
      ]
     }
    }
   ],
   "source": [
    "library(knitr)\n",
    "library(tidyverse)"
   ],
   "id": "f08df271-9c87-45ac-ad3d-be3c89e46337"
  },
  {
   "cell_type": "markdown",
   "metadata": {},
   "source": [
    "# References"
   ],
   "id": "728643d6-006d-420e-af32-e7156b32b3dd"
  }
 ],
 "nbformat": 4,
 "nbformat_minor": 5,
 "metadata": {}
}
